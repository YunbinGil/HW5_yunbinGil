{
 "cells": [
  {
   "cell_type": "code",
   "execution_count": 6,
   "id": "6086a9a2",
   "metadata": {},
   "outputs": [
    {
     "name": "stdout",
     "output_type": "stream",
     "text": [
      "*** Annual Temperature Report for Seoul in 2022 ***\n",
      "1st Busiest Line: Line 2 ( 85620512 )\n",
      "2nd Busiest Line: Line 5 ( 39671990 )\n",
      "1st Least used Line: Line 8 ( 11863928 )\n",
      "2nd Least used Line: Line 1 ( 14705833 )\n"
     ]
    }
   ],
   "source": [
    "import csv\n",
    "\n",
    "def total_num():\n",
    "    f=open('202303_Seoul_Subway.csv', 'r', encoding='ANSI')\n",
    "    data = csv.reader(f, delimiter = ',')\n",
    "    header = next(data)\n",
    "\n",
    "    num = [0, 0, 0, 0, 0, 0, 0, 0, 0]\n",
    "    \n",
    "    for row in data:\n",
    "        if(row[-6] == '1호선'):\n",
    "            num[0] = num[0] + int(row[-2]) + int(row[-3])\n",
    "        elif(row[-6] == '2호선'):\n",
    "            num[1] = num[1] + int(row[-2]) + int(row[-3])\n",
    "        elif(row[-6] == '3호선'):\n",
    "             num[2] = num[2] + int(row[-2]) + int(row[-3])\n",
    "        elif(row[-6] == '4호선'):\n",
    "             num[3] = num[3] +int(row[-2]) + int(row[-3])\n",
    "        elif(row[-6] == '5호선'):\n",
    "             num[4] = num[4] + int(row[-2]) + int(row[-3])\n",
    "        elif(row[-6] == '6호선'):\n",
    "             num[5] = num[5] +int(row[-2]) + int(row[-3])\n",
    "        elif(row[-6] == '7호선'):\n",
    "            num[6] = num[6] +int(row[-2]) + int(row[-3])\n",
    "        elif(row[-6] == '8호선'):\n",
    "             num[7] = num[7]+ int(row[-2]) + int(row[-3])\n",
    "        elif(row[-6] == '9호선'):\n",
    "             num[8] = num[8] +int(row[-2]) + int(row[-3])\n",
    "\n",
    "\n",
    "    num_org = list(num)\n",
    "    num.sort(reverse=True)\n",
    "    \n",
    "   \n",
    "        \n",
    "    print(\"1st Busiest Line: Line\", str(num_org.index(num[0])+1), \"(\", num[0], \")\" )\n",
    "    print(\"2nd Busiest Line: Line\", str(num_org.index(num[1])+1), \"(\", str(num[1]), \")\" )\n",
    "    print(\"1st Least used Line: Line\", str(num_org.index(num[8])+1), \"(\", str(num[8]), \")\" )\n",
    "    print(\"2nd Least used Line: Line\", str(num_org.index(num[7])+1), \"(\",str(num[7]), \")\" )\n",
    "    \n",
    "    f.close()\n",
    "\n",
    "def main():\n",
    "    print(\"*** Annual Temperature Report for Seoul in 2022 ***\")\n",
    "    total_num()\n",
    "    \n",
    "if __name__ == '__main__':\n",
    "    main()"
   ]
  },
  {
   "cell_type": "code",
   "execution_count": null,
   "id": "451ceb9e",
   "metadata": {},
   "outputs": [],
   "source": []
  }
 ],
 "metadata": {
  "kernelspec": {
   "display_name": "Python 3 (ipykernel)",
   "language": "python",
   "name": "python3"
  },
  "language_info": {
   "codemirror_mode": {
    "name": "ipython",
    "version": 3
   },
   "file_extension": ".py",
   "mimetype": "text/x-python",
   "name": "python",
   "nbconvert_exporter": "python",
   "pygments_lexer": "ipython3",
   "version": "3.9.12"
  }
 },
 "nbformat": 4,
 "nbformat_minor": 5
}
