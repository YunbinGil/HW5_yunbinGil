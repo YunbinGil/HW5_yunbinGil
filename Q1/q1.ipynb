{
 "cells": [
  {
   "cell_type": "code",
   "execution_count": 24,
   "id": "028dc749",
   "metadata": {},
   "outputs": [
    {
     "name": "stdout",
     "output_type": "stream",
     "text": [
      "*** Annual Temperature Report for Seoul in 2022 ***\n",
      "Average Temperature: 13.26 Celsius\n",
      "Average Minimum Temperature: 9.21 Celsius\n",
      "Average Maximum Temperature: 18.05 Celsius\n"
     ]
    }
   ],
   "source": [
    "import csv\n",
    "\n",
    "def find_avgTemp() :\n",
    "    f=open('2022_Seoul_Temp.csv', 'r', encoding='ANSI')\n",
    "    data = csv.reader(f, delimiter = ',')\n",
    "    header = next(data)\n",
    "\n",
    "    count = 0\n",
    "    temp = 0\n",
    "    min_temp =0\n",
    "    max_temp =0\n",
    "\n",
    "    for row in data:\n",
    "        if(row[-1]=='') :\n",
    "            continue\n",
    "        elif(row[-2]==''):\n",
    "            continue\n",
    "        elif(row[-3]==''):\n",
    "            continue\n",
    "        else :\n",
    "            temp += float(row[-3])\n",
    "            min_temp += float(row[-2])\n",
    "            max_temp += float(row[-1])\n",
    "            count = count + 1\n",
    "\n",
    "    print(\"*** Annual Temperature Report for Seoul in 2022 ***\")\n",
    "    print(\"Average Temperature:\", str(round(temp/count,2)), \"Celsius\")\n",
    "    print(\"Average Minimum Temperature:\", str(round(min_temp/count,2)), \"Celsius\")\n",
    "    print(\"Average Maximum Temperature:\", str(round(max_temp/count,2)), \"Celsius\")\n",
    "\n",
    "f.close()\n",
    "\n",
    "\n",
    "def main():\n",
    "    find_avgTemp()\n",
    "    \n",
    "if __name__ == '__main__':\n",
    "    main()"
   ]
  },
  {
   "cell_type": "code",
   "execution_count": null,
   "id": "82694420",
   "metadata": {},
   "outputs": [],
   "source": []
  },
  {
   "cell_type": "code",
   "execution_count": null,
   "id": "1616913a",
   "metadata": {},
   "outputs": [],
   "source": []
  }
 ],
 "metadata": {
  "kernelspec": {
   "display_name": "Python 3 (ipykernel)",
   "language": "python",
   "name": "python3"
  },
  "language_info": {
   "codemirror_mode": {
    "name": "ipython",
    "version": 3
   },
   "file_extension": ".py",
   "mimetype": "text/x-python",
   "name": "python",
   "nbconvert_exporter": "python",
   "pygments_lexer": "ipython3",
   "version": "3.9.12"
  }
 },
 "nbformat": 4,
 "nbformat_minor": 5
}
