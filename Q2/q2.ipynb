{
 "cells": [
  {
   "cell_type": "code",
   "execution_count": 8,
   "id": "1586da01",
   "metadata": {},
   "outputs": [
    {
     "name": "stdout",
     "output_type": "stream",
     "text": [
      "*** Annual Temperature Report for Seoul in 2022 ***\n",
      "Day with the Largest Temperature Variation : 2022-11-29\n",
      "Maximum Temperature Difference: 16.6\n",
      "Day with the Largest Temperature Variation : 2022-06-29\n",
      "Minimum Temperature Difference: 1.7\n"
     ]
    }
   ],
   "source": [
    "import csv\n",
    "\n",
    "def tDiff_max():\n",
    "    f=open('2022_Seoul_Temp.csv', 'r', encoding='ANSI')\n",
    "    data = csv.reader(f, delimiter = ',')\n",
    "    header = next(data)\n",
    "\n",
    "    max_diff = -999\n",
    "    max_date = ''\n",
    "\n",
    "    for row in data:\n",
    "        if(row[-1]==''):\n",
    "            continue\n",
    "        elif(row[-2]==''):\n",
    "            continue\n",
    "        elif(row[-3]==''):\n",
    "            continue\n",
    "        else:\n",
    "            diff = float(row[-1]) - float(row[-2])\n",
    "            if(diff > max_diff):\n",
    "                max_diff = diff\n",
    "                max_date = row[0]\n",
    "    print(\"Day with the Largest Temperature Variation :\", max_date)\n",
    "    print(\"Maximum Temperature Difference:\", round(max_diff, 1))\n",
    "    f.close()\n",
    "    \n",
    "def tDiff_min():\n",
    "    f=open('2022_Seoul_Temp.csv', 'r', encoding='ANSI')\n",
    "    data = csv.reader(f, delimiter = ',')\n",
    "    header = next(data)\n",
    "\n",
    "    min_diff = 999\n",
    "    min_date = ''\n",
    "\n",
    "    for row in data:\n",
    "        if(row[-1]==''):\n",
    "            continue\n",
    "        elif(row[-2]==''):\n",
    "            continue\n",
    "        elif(row[-3]==''):\n",
    "            continue\n",
    "        else:\n",
    "            diff = float(row[-1]) - float(row[-2])\n",
    "            if(diff < min_diff):\n",
    "                min_diff = diff\n",
    "                min_date = row[0]\n",
    "    print(\"Day with the Largest Temperature Variation :\", min_date)\n",
    "    print(\"Minimum Temperature Difference:\", round(min_diff, 1))\n",
    "    f.close()\n",
    "\n",
    "\n",
    "def main() :\n",
    "    print(\"*** Annual Temperature Report for Seoul in 2022 ***\")\n",
    "    tDiff_max()\n",
    "    tDiff_min()\n",
    "    \n",
    "\n",
    "if __name__ == '__main__':\n",
    "    main()"
   ]
  },
  {
   "cell_type": "code",
   "execution_count": null,
   "id": "8b84f27a",
   "metadata": {},
   "outputs": [],
   "source": [
    "||"
   ]
  }
 ],
 "metadata": {
  "kernelspec": {
   "display_name": "Python 3 (ipykernel)",
   "language": "python",
   "name": "python3"
  },
  "language_info": {
   "codemirror_mode": {
    "name": "ipython",
    "version": 3
   },
   "file_extension": ".py",
   "mimetype": "text/x-python",
   "name": "python",
   "nbconvert_exporter": "python",
   "pygments_lexer": "ipython3",
   "version": "3.9.12"
  }
 },
 "nbformat": 4,
 "nbformat_minor": 5
}
