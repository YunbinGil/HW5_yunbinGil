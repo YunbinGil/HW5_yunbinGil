{
 "cells": [
  {
   "cell_type": "code",
   "execution_count": 8,
   "id": "6693f4d2",
   "metadata": {},
   "outputs": [
    {
     "name": "stdout",
     "output_type": "stream",
     "text": [
      "*** Annual Temperature Report for Seoul in 2022 ***\n",
      "Line 1:\n",
      "Busiest Station: 서울역 (3084227)\n",
      "Least Station: 동묘앞 (658566)\n",
      "Line 2:\n",
      "Busiest Station: 강남 (4690366)\n",
      "Least Station: 도림천 (80084)\n",
      "Line 3:\n",
      "Busiest Station: 고속터미널 (2886887)\n",
      "Least Station: 충무로 (48)\n",
      "Line 4:\n",
      "Busiest Station: 혜화 (2286709)\n",
      "Least Station: 남태령 (79916)\n"
     ]
    }
   ],
   "source": [
    "import csv\n",
    "\n",
    "def max_station(Line):\n",
    "    f=open('202303_Seoul_Subway.csv', 'r', encoding='ANSI')\n",
    "    data = csv.reader(f, delimiter = ',')\n",
    "    header = next(data)\n",
    "\n",
    "    max_num = -999\n",
    "    max_station = ''\n",
    "    \n",
    "    for row in data:\n",
    "        if(row[-6]==Line):\n",
    "            num = int(row[-3]) + int(row[-2])\n",
    "            if(num > max_num):\n",
    "                max_num = num\n",
    "                max_station = row[-4]\n",
    "                \n",
    "    print(\"Busiest Station:\", max_station, \"(\"+str(max_num)+\")\")\n",
    "\n",
    "    f.close()\n",
    "    \n",
    "def min_station(Line):\n",
    "    f=open('202303_Seoul_Subway.csv', 'r', encoding='ANSI')\n",
    "    data = csv.reader(f, delimiter = ',')\n",
    "    header = next(data)\n",
    "    \n",
    "    min_num = 999999999999999\n",
    "    min_station = ''\n",
    "    \n",
    "    for row in data:\n",
    "        if(row[-6]==Line):\n",
    "            num = int(row[-3]) + int(row[-2])\n",
    "            if(num < min_num):\n",
    "                min_num = num\n",
    "                min_station = row[-4]\n",
    "    \n",
    "    print(\"Least Station:\", min_station, \"(\"+str(min_num)+\")\")\n",
    "    \n",
    "    f.close()\n",
    "\n",
    "def main():\n",
    "    print(\"*** Annual Temperature Report for Seoul in 2022 ***\")\n",
    "    print(\"Line 1:\")\n",
    "    max_station('1호선')\n",
    "    min_station('1호선')\n",
    "    print(\"Line 2:\")\n",
    "    max_station('2호선')\n",
    "    min_station('2호선')\n",
    "    print(\"Line 3:\")\n",
    "    max_station('3호선')\n",
    "    min_station('3호선')\n",
    "    print(\"Line 4:\")\n",
    "    max_station('4호선')\n",
    "    min_station('4호선')\n",
    "    \n",
    "if __name__ == '__main__':\n",
    "    main()"
   ]
  },
  {
   "cell_type": "code",
   "execution_count": null,
   "id": "0a2f487c",
   "metadata": {},
   "outputs": [],
   "source": []
  }
 ],
 "metadata": {
  "kernelspec": {
   "display_name": "Python 3 (ipykernel)",
   "language": "python",
   "name": "python3"
  },
  "language_info": {
   "codemirror_mode": {
    "name": "ipython",
    "version": 3
   },
   "file_extension": ".py",
   "mimetype": "text/x-python",
   "name": "python",
   "nbconvert_exporter": "python",
   "pygments_lexer": "ipython3",
   "version": "3.9.12"
  }
 },
 "nbformat": 4,
 "nbformat_minor": 5
}
