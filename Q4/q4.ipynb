{
 "cells": [
  {
   "cell_type": "code",
   "execution_count": 3,
   "id": "e389d824",
   "metadata": {},
   "outputs": [
    {
     "name": "stdout",
     "output_type": "stream",
     "text": [
      "*** Annual Temperature Report for Seoul in 2022 ***\n",
      "Line 1:\n",
      "Busiest Station: 서울역 (1572966)\n",
      "Least Station: 동묘앞 (322852)\n",
      "Line 2:\n",
      "Busiest Station: 강남 (2390276)\n",
      "Least Station: 도림천 (38588)\n",
      "Line 3:\n",
      "Busiest Station: 고속터미널 (1473534)\n",
      "Least Station: 충무로 (48)\n",
      "Line 4:\n",
      "Busiest Station: 혜화 (1141350)\n",
      "Least Station: 남태령 (43914)\n"
     ]
    }
   ],
   "source": [
    "import csv\n",
    "\n",
    "def max_station(Line):\n",
    "    f=open('202303_Seoul_Subway.csv', 'r', encoding='ANSI')\n",
    "    data = csv.reader(f, delimiter = ',')\n",
    "    header = next(data)\n",
    "\n",
    "    max_num = -999\n",
    "    max_station = ''\n",
    "    \n",
    "    for row in data:\n",
    "        if(row[-6]==Line):\n",
    "            if(int(row[-3]) > max_num):\n",
    "                max_num = int(row[-3])\n",
    "                max_station = row[-4]\n",
    "                \n",
    "    print(\"Busiest Station:\", max_station, \"(\"+str(max_num)+\")\")\n",
    "\n",
    "    f.close()\n",
    "    \n",
    "def min_station(Line):\n",
    "    f=open('202303_Seoul_Subway.csv', 'r', encoding='ANSI')\n",
    "    data = csv.reader(f, delimiter = ',')\n",
    "    header = next(data)\n",
    "    \n",
    "    min_num = 999999999999999\n",
    "    min_station = ''\n",
    "    \n",
    "    for row in data:\n",
    "        if(row[-6]==Line):\n",
    "            if(int(row[-3]) < min_num):\n",
    "                min_num = int(row[-3])\n",
    "                min_station = row[-4]\n",
    "    \n",
    "    print(\"Least Station:\", min_station, \"(\"+str(min_num)+\")\")\n",
    "    \n",
    "    f.close()\n",
    "\n",
    "def main():\n",
    "    print(\"*** Annual Temperature Report for Seoul in 2022 ***\")\n",
    "    print(\"Line 1:\")\n",
    "    max_station('1호선')\n",
    "    min_station('1호선')\n",
    "    print(\"Line 2:\")\n",
    "    max_station('2호선')\n",
    "    min_station('2호선')\n",
    "    print(\"Line 3:\")\n",
    "    max_station('3호선')\n",
    "    min_station('3호선')\n",
    "    print(\"Line 4:\")\n",
    "    max_station('4호선')\n",
    "    min_station('4호선')\n",
    "    \n",
    "if __name__ == '__main__':\n",
    "    main()"
   ]
  },
  {
   "cell_type": "code",
   "execution_count": null,
   "id": "9fd3539f",
   "metadata": {},
   "outputs": [],
   "source": []
  }
 ],
 "metadata": {
  "kernelspec": {
   "display_name": "Python 3 (ipykernel)",
   "language": "python",
   "name": "python3"
  },
  "language_info": {
   "codemirror_mode": {
    "name": "ipython",
    "version": 3
   },
   "file_extension": ".py",
   "mimetype": "text/x-python",
   "name": "python",
   "nbconvert_exporter": "python",
   "pygments_lexer": "ipython3",
   "version": "3.9.12"
  }
 },
 "nbformat": 4,
 "nbformat_minor": 5
}
